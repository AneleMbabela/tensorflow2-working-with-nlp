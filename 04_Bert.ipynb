{
  "nbformat": 4,
  "nbformat_minor": 0,
  "metadata": {
    "colab": {
      "provenance": [],
      "authorship_tag": "ABX9TyOumnRpy8e9KoqSmgs8vV8E",
      "include_colab_link": true
    },
    "kernelspec": {
      "name": "python3",
      "display_name": "Python 3"
    },
    "language_info": {
      "name": "python"
    }
  },
  "cells": [
    {
      "cell_type": "markdown",
      "metadata": {
        "id": "view-in-github",
        "colab_type": "text"
      },
      "source": [
        "<a href=\"https://colab.research.google.com/github/AneleMbabela/tensorflow2-working-with-nlp/blob/main/04_Bert.ipynb\" target=\"_parent\"><img src=\"https://colab.research.google.com/assets/colab-badge.svg\" alt=\"Open In Colab\"/></a>"
      ]
    },
    {
      "cell_type": "markdown",
      "source": [
        "## **BERT**"
      ],
      "metadata": {
        "id": "lnWo1dthWxy6"
      }
    },
    {
      "cell_type": "code",
      "execution_count": 1,
      "metadata": {
        "id": "way6YC0QWqt_"
      },
      "outputs": [],
      "source": [
        "%%capture\n",
        "!pip install -U tensorflow-text\n",
        "!pip install tf-models-official\n"
      ]
    },
    {
      "cell_type": "code",
      "source": [
        "import os\n",
        "import shutil\n",
        "from pathlib import Path\n",
        "\n",
        "import tensorflow as tf\n",
        "import tensorflow_hub\n",
        "import tensorflow_text as text\n",
        "from official.nlp import optimization  # to create AdamW optimizer\n",
        "import datetime\n",
        "\n",
        "import matplotlib.pyplot as plt\n",
        "\n",
        "tf.get_logger().setLevel('ERROR')"
      ],
      "metadata": {
        "id": "TnpHNGwVW_Ov"
      },
      "execution_count": 2,
      "outputs": []
    },
    {
      "cell_type": "code",
      "source": [
        "url = 'https://ai.stanford.edu/~amaas/data/sentiment/aclImdb_v1.tar.gz'\n",
        "\n",
        "dataset = tf.keras.utils.get_file('aclImdb_v1.tar.gz', url,\n",
        "                                  untar=True, cache_dir='.',\n",
        "                                  cache_subdir='')\n",
        "\n",
        "dataset_dir = Path('.') / 'aclImdb'\n",
        "train_dir = Path(dataset_dir) / 'train'\n",
        "test_dir = Path(dataset_dir) / 'test'\n",
        "\n",
        "remove_dir = Path(train_dir) / 'unsup'\n",
        "shutil.rmtree(remove_dir)\n",
        "\n",
        "AUTOTUNE = tf.data.AUTOTUNE\n",
        "batch_size = 32\n",
        "seed = 1\n",
        "\n",
        "raw_train_ds = tf.keras.preprocessing.text_dataset_from_directory(\n",
        "    train_dir,\n",
        "    batch_size=batch_size,\n",
        "    validation_split=0.2,\n",
        "    subset='training',\n",
        "    seed=seed)\n",
        "\n",
        "class_names = raw_train_ds.class_names\n",
        "train_ds = raw_train_ds.cache().prefetch(buffer_size=AUTOTUNE)\n",
        "\n",
        "val_ds = tf.keras.preprocessing.text_dataset_from_directory(\n",
        "    train_dir,\n",
        "    batch_size=batch_size,\n",
        "    validation_split=0.2,\n",
        "    subset='validation',\n",
        "    seed=seed)  \n",
        "\n",
        "val_ds = val_ds.cache().prefetch(buffer_size=AUTOTUNE)\n",
        "\n",
        "test_ds = tf.keras.preprocessing.text_dataset_from_directory(\n",
        "    test_dir,\n",
        "    batch_size=batch_size)\n"
      ],
      "metadata": {
        "colab": {
          "base_uri": "https://localhost:8080/"
        },
        "id": "QXnBkKJPfwlV",
        "outputId": "522f9cfc-113f-4321-e758-975823aee3ed"
      },
      "execution_count": 8,
      "outputs": [
        {
          "output_type": "stream",
          "name": "stdout",
          "text": [
            "Found 25000 files belonging to 2 classes.\n",
            "Using 20000 files for training.\n",
            "Found 25000 files belonging to 2 classes.\n",
            "Using 5000 files for validation.\n",
            "Found 25000 files belonging to 2 classes.\n"
          ]
        }
      ]
    },
    {
      "cell_type": "markdown",
      "source": [
        "Overview"
      ],
      "metadata": {
        "id": "1cmHKHIrlrJO"
      }
    },
    {
      "cell_type": "markdown",
      "source": [
        "*   Let's take a look at a sample. So you can see both the review text and the associated label - 0 for a negative review and 1 for a positive review."
      ],
      "metadata": {
        "id": "_fvPmEJ1jXsH"
      }
    },
    {
      "cell_type": "code",
      "source": [
        "test_ds = test_ds.cache().prefetch(buffer_size=AUTOTUNE)\n",
        "\n",
        "for text_batch, label_batch in train_ds.take(1):\n",
        "  for i in range(3):\n",
        "    print(f'Review: {text_batch.numpy()[i]}')\n",
        "    label = label_batch.numpy()[i]\n",
        "    print(f'Label : {label} ({class_names[label]})')"
      ],
      "metadata": {
        "colab": {
          "base_uri": "https://localhost:8080/"
        },
        "id": "YEZWlfkglqUb",
        "outputId": "afdd019a-1ad1-49f4-ef96-15b1b236bd04"
      },
      "execution_count": 11,
      "outputs": [
        {
          "output_type": "stream",
          "name": "stdout",
          "text": [
            "Review: b\"Poorly structured, badly written, loaded with cliches and flat dialogue. Not a single scene shines. The actors struggle with a painfully dull scenario that manages to completely avoid any surprises, plot twists or conflict. You know from the first ten minutes where it's going.<br /><br />For a movie set in NY, it has almost no feeling for the city. There are a dozen other indie movies that manage to make it seem magical on a small budget. This one seems like it was shot in Toronto.<br /><br />If you cast Natasha Henstridge, why dress her in baggy sweaters? Why make Vartan look boring and drab? Where's the attraction? I felt like I was watching a sub-par Christian movie of the week it was so asexual and moralizing.<br /><br />Steven Feder's big success is that he convinced people to make this bland movie.\"\n",
            "Label : 0 (neg)\n",
            "Review: b'this movie, i won\\'t call it a \"film,\" was basically about nothing and functioned mostly for the popular acts of the time. yeah the war was on full swing (pun intended), and this movie gave the troops and our audiences a treat.<br /><br />but let\\'s have something with a bit more substance.<br /><br />loved seeing a young Buddy Rich on the drums. the music was good throughout.<br /><br />but one cameo after another gets old fast.<br /><br />i didn\\'t even recognize Zero Mostel! so if you\\'re one from the \"greatest generation,\" as they say, you\\'ll definitely enjoy this...<br /><br />movie.'\n",
            "Label : 0 (neg)\n",
            "Review: b\"Trey Parker and Matt Stone, the creators of the show 'South Park' , return with something entirely different.They create a new sport that combines baseball and basketball.This sport is known as baseketball.It's like basketball except that the rules of baseball are involved and there's another letter e in the title.Here's how you play: you just shoot the ball while these two guys try to distract you from making the shot.Sounds simple.In fact, I might try it one day.After the game hits the streets, it soon becomes a huge success.Who would've known that 2 immature friends could invent a sport that became so successful?<br /><br />My opinion<br /><br />'Baseketball' is a very crude and silly spoof filled with lots of slapstick violence, yet it actually delivers some laughs and plenty of entertainment.A definite recommendation for those of you who like slapstick and rude humor.\"\n",
            "Label : 1 (pos)\n"
          ]
        }
      ]
    },
    {
      "cell_type": "markdown",
      "source": [
        "**Build a bert model**"
      ],
      "metadata": {
        "id": "TUfDRSFbmwqW"
      }
    },
    {
      "cell_type": "code",
      "source": [
        "#tfhub_handle_encoder = 'https://tfhub.dev/tensorflow/bert_en_uncased_L-12_H-768_A-12/3' # BERT model\n",
        "tfhub_handle_encoder = 'https://tfhub.dev/tensorflow/small_bert/bert_en_uncased_L-2_H-128_A-2/1' # small BERT model\n",
        "tfhub_handle_preprocess = 'https://tfhub.dev/tensorflow/bert_en_cased_preprocess/3'\n",
        "bert_preprocess_model = tensorflow_hub.KerasLayer(tfhub_handle_preprocess)\n",
        "\n",
        "sentence = ['I like nlp']\n",
        "text_preprocessed = bert_preprocess_model(sentence)\n",
        "\n",
        "print(f'Shape       : {text_preprocessed[\"input_word_ids\"].shape}')\n",
        "print(f'Word Ids    : {text_preprocessed[\"input_word_ids\"][0, : 12]}')\n",
        "print(f'Input Mask  : {text_preprocessed[\"input_mask\"][0, : 12]}')\n",
        "print(f'Type Ids    : {text_preprocessed[\"input_type_ids\"][0, : 12]}')"
      ],
      "metadata": {
        "colab": {
          "base_uri": "https://localhost:8080/"
        },
        "id": "ouS7sgwCmrFD",
        "outputId": "f0230649-6ebc-46dc-d5ab-e4e4cfe9a3d4"
      },
      "execution_count": 12,
      "outputs": [
        {
          "output_type": "stream",
          "name": "stdout",
          "text": [
            "Shape       : (1, 128)\n",
            "Word Ids    : [ 101  146 1176  183 1233 1643  102    0    0    0    0    0]\n",
            "Input Mask  : [1 1 1 1 1 1 1 0 0 0 0 0]\n",
            "Type Ids    : [0 0 0 0 0 0 0 0 0 0 0 0]\n"
          ]
        }
      ]
    },
    {
      "cell_type": "code",
      "source": [
        "bert_model = tensorflow_hub.KerasLayer(tfhub_handle_encoder)\n",
        "\n",
        "bert_results = bert_model(text_preprocessed)\n",
        "\n",
        "print(f'Loaded BERT: {tfhub_handle_encoder}')\n",
        "print(f'Pooled Outputs Shape:{bert_results[\"pooled_output\"].shape}')\n",
        "print(f'Pooled Outputs Values:{bert_results[\"pooled_output\"][0, :12]}')\n",
        "print(f'Sequence Outputs Shape:{bert_results[\"sequence_output\"].shape}')\n",
        "print(f'Sequence Outputs Values:{bert_results[\"sequence_output\"][0, : 12]}')"
      ],
      "metadata": {
        "colab": {
          "base_uri": "https://localhost:8080/"
        },
        "id": "8dkOpDMCn_F2",
        "outputId": "9ec59f4e-31db-41a6-c1eb-c12ef8f403c9"
      },
      "execution_count": 13,
      "outputs": [
        {
          "output_type": "stream",
          "name": "stdout",
          "text": [
            "Loaded BERT: https://tfhub.dev/tensorflow/small_bert/bert_en_uncased_L-2_H-128_A-2/1\n",
            "Pooled Outputs Shape:(1, 128)\n",
            "Pooled Outputs Values:[-0.9999982   0.081607   -0.9971956   0.01151122 -0.9965372  -0.10179879\n",
            " -0.91629314 -0.726131    0.16070108 -0.15485592 -0.1403125  -0.09926453]\n",
            "Sequence Outputs Shape:(1, 128, 128)\n",
            "Sequence Outputs Values:[[-1.247094   -0.348022   -2.8169596  ... -1.0223976  -0.5486642\n",
            "   0.4155478 ]\n",
            " [-1.3511565  -1.3228742   0.63541454 ... -0.9826267  -1.5024691\n",
            "   1.1037158 ]\n",
            " [-1.9130938  -0.85812074  0.33952504 ... -2.4654903  -1.1236168\n",
            "   1.3087872 ]\n",
            " ...\n",
            " [-1.2427813  -1.431713    0.31718177 ... -1.5987799  -0.8911335\n",
            "   0.88397235]\n",
            " [-1.0035266  -1.31159     0.27349642 ... -1.4690684  -0.95014274\n",
            "   0.73115623]\n",
            " [-0.9430742  -1.1566832   0.39200246 ... -1.224145   -1.1596254\n",
            "   0.5896002 ]]\n"
          ]
        }
      ]
    },
    {
      "cell_type": "markdown",
      "source": [
        "**BERT classifier**"
      ],
      "metadata": {
        "id": "mgvsHB1QpWtq"
      }
    },
    {
      "cell_type": "code",
      "source": [
        "def bert_classifier():\n",
        "  text_input = tf.keras.layers.Input(shape=(), dtype=tf.string, name='text')\n",
        "  preprocessing_layer = tensorflow_hub.KerasLayer(tfhub_handle_preprocess, name='preprocessing')\n",
        "  encoder_inputs = preprocessing_layer(text_input)\n",
        "  encoder = tensorflow_hub.KerasLayer(tfhub_handle_encoder, trainable=True, name='BERT_encoder')\n",
        "  outputs = encoder(encoder_inputs)\n",
        "  net = outputs['pooled_output']\n",
        "  net = tf.keras.layers.Dropout(0.1)(net)\n",
        "  net = tf.keras.layers.Dense(1, activation=None, name='classifier')(net)\n",
        "  return tf.keras.Model(text_input, net)"
      ],
      "metadata": {
        "id": "26Qf6CwopcvF"
      },
      "execution_count": 15,
      "outputs": []
    },
    {
      "cell_type": "code",
      "source": [
        "model = bert_classifier()\n",
        "bert_raw_result = model(tf.constant(sentence))\n",
        "print(tf.sigmoid(bert_raw_result))"
      ],
      "metadata": {
        "colab": {
          "base_uri": "https://localhost:8080/"
        },
        "id": "nbp1jbgXrWM6",
        "outputId": "3cd2be34-5d4b-430f-bd54-4693ea9555c9"
      },
      "execution_count": 17,
      "outputs": [
        {
          "output_type": "stream",
          "name": "stdout",
          "text": [
            "tf.Tensor([[0.80655205]], shape=(1, 1), dtype=float32)\n"
          ]
        }
      ]
    },
    {
      "cell_type": "code",
      "source": [
        "tf.keras.utils.plot_model(model)"
      ],
      "metadata": {
        "colab": {
          "base_uri": "https://localhost:8080/",
          "height": 466
        },
        "id": "3RRNlhAhrlUx",
        "outputId": "489c77ab-09a2-43b4-9284-012d01a5ebcb"
      },
      "execution_count": 18,
      "outputs": [
        {
          "output_type": "execute_result",
          "data": {
            "image/png": "[encoded data removed]",
            "text/plain": [
              "<IPython.core.display.Image object>"
            ]
          },
          "metadata": {},
          "execution_count": 18
        }
      ]
    },
    {
      "cell_type": "code",
      "source": [
        "# Loss function\n",
        "loss = tf.keras.losses.BinaryCrossentropy(from_logits=True)\n",
        "metrics = tf.metrics.BinaryAccuracy()\n",
        "\n",
        "# Optimizer\n",
        "epochs = 10\n",
        "steps_per_epoch = tf.data.experimental.cardinality(train_ds).numpy()\n",
        "num_train_steps = steps_per_epoch * epochs\n",
        "num_warmup_steps = int(0.1*num_train_steps)\n",
        "\n",
        "init_lr = 3e-5\n",
        "optimizer = optimization.create_optimizer(init_lr=init_lr,\n",
        "                                          num_train_steps=num_train_steps,\n",
        "                                          num_warmup_steps=num_warmup_steps,\n",
        "                                          optimizer_type='adamw')\n",
        "\n",
        "model.compile(optimizer=optimizer,\n",
        "              loss=loss,\n",
        "              metrics=metrics)"
      ],
      "metadata": {
        "id": "0q7vRXDEr6Re"
      },
      "execution_count": 20,
      "outputs": []
    },
    {
      "cell_type": "markdown",
      "source": [
        "\n",
        "\n",
        "*   In general callbacks and tensorboard are good tools to use for understanding, optimising and visualising model training so we will work with them here.\n",
        "*   In the TensorFlow working with images course, we looked at callbacks.\n",
        "\n",
        "\n"
      ],
      "metadata": {
        "id": "SymdBm-StmEg"
      }
    },
    {
      "cell_type": "code",
      "source": [
        "CHECKPOINT_DIR = './BERT_training_checkpoits'\n",
        "CHECKPOINT_PREFIX = Path(CHECKPOINT_DIR) / \"checkpoint_{epoch}\"\n",
        "\n",
        "checkpoint = tf.keras.callbacks.ModelCheckpoint(\n",
        "    filepath=CHECKPOINT_PREFIX,\n",
        "    monitor='val_accuracy',\n",
        "    mode='max')"
      ],
      "metadata": {
        "id": "SCrgp0_Ntqcp"
      },
      "execution_count": 21,
      "outputs": []
    },
    {
      "cell_type": "code",
      "source": [
        "MODEL_NAME = f'BERT-{datetime.datetime.now():%Y%m%d-%H%M%S}'\n",
        "\n",
        "CHECKPOINT_DIR = './' + MODEL_NAME\n",
        "CHECKPOINT_PREFIX = Path(CHECKPOINT_DIR) / \"checkpoint_{epoch}\"\n",
        "\n",
        "checkpoint = tf.keras.callbacks.ModelCheckpoint(\n",
        "    filepath=CHECKPOINT_PREFIX,\n",
        "    monitor='val_accuracy',\n",
        "    mode='max')\n",
        "\n",
        "tensorboard = tf.keras.callbacks.TensorBoard(\n",
        "                            log_dir=f'./tensorboardlogs/{MODEL_NAME}',\n",
        "                            write_graph=True,\n",
        "                            write_images=True,\n",
        "                            histogram_freq=1)"
      ],
      "metadata": {
        "id": "aW_jHE4AwAwh"
      },
      "execution_count": 22,
      "outputs": []
    },
    {
      "cell_type": "code",
      "source": [
        "callbacks = [\n",
        "                checkpoint,\n",
        "                tensorboard\n",
        "]\n",
        "\n",
        "hist = model.fit(\n",
        "              train_ds,\n",
        "              epochs=epochs,\n",
        "              validation_data=val_ds,\n",
        "              callbacks=callbacks).history\n"
      ],
      "metadata": {
        "colab": {
          "base_uri": "https://localhost:8080/"
        },
        "id": "JHkSMjpWyGKS",
        "outputId": "46575e0e-45ba-45d4-911e-ed573effaaab"
      },
      "execution_count": null,
      "outputs": [
        {
          "output_type": "stream",
          "name": "stdout",
          "text": [
            "Epoch 1/10\n",
            "383/625 [=================>............] - ETA: 3:03 - loss: 0.7148 - binary_accuracy: 0.5070"
          ]
        }
      ]
    },
    {
      "cell_type": "code",
      "source": [
        "%load_ext tensorboard"
      ],
      "metadata": {
        "id": "GTPNC1nHysCK"
      },
      "execution_count": null,
      "outputs": []
    },
    {
      "cell_type": "code",
      "source": [
        "%tensorboard --logdir ./tensorboardlogs/"
      ],
      "metadata": {
        "id": "dsE6fL5tyvkV"
      },
      "execution_count": null,
      "outputs": []
    },
    {
      "cell_type": "code",
      "source": [
        "history_dict = hist\n",
        "print(history_dict.keys())\n",
        "\n",
        "acc = history_dict['binary_accuracy']\n",
        "val_acc = history_dict['val_binary_accuracy']\n",
        "loss = history_dict['loss']\n",
        "val_loss = history_dict['val_loss']\n",
        "\n",
        "epochs = range(1, len(acc) + 1)\n",
        "fig = plt.figure(figsize=(10, 6))\n",
        "fig.tight_layout()\n",
        "\n",
        "plt.subplot(2, 1, 1)\n",
        "# r is for \"solid red line\"\n",
        "plt.plot(epochs, loss, 'r', label='Training loss')\n",
        "# b is for \"solid blue line\"\n",
        "plt.plot(epochs, val_loss, 'b', label='Validation loss')\n",
        "plt.title('Training and validation loss')\n",
        "# plt.xlabel('Epochs')\n",
        "plt.ylabel('Loss')\n",
        "plt.legend()\n",
        "\n",
        "plt.subplot(2, 1, 2)\n",
        "plt.plot(epochs, acc, 'r', label='Training acc')\n",
        "plt.plot(epochs, val_acc, 'b', label='Validation acc')\n",
        "plt.title('Training and validation accuracy')\n",
        "plt.xlabel('Epochs')\n",
        "plt.ylabel('Accuracy')\n",
        "plt.legend(loc='lower right')"
      ],
      "metadata": {
        "id": "oDyD8U6wy4PM"
      },
      "execution_count": null,
      "outputs": []
    },
    {
      "cell_type": "markdown",
      "source": [
        " **Make predictions**"
      ],
      "metadata": {
        "id": "kYpUvW0Sy9I_"
      }
    },
    {
      "cell_type": "code",
      "source": [
        "loss, accuracy = model.evaluate(test_ds)\n",
        "\n",
        "print(f'Loss: {loss}')\n",
        "print(f'Accuracy: {accuracy}')"
      ],
      "metadata": {
        "id": "RmYZdur0y8MG"
      },
      "execution_count": null,
      "outputs": []
    },
    {
      "cell_type": "code",
      "source": [
        "def print_my_examples(inputs, results):\n",
        "  result_for_printing = \\\n",
        "    [f'input: {inputs[i]:<30} : score: {results[i][0]:.6f}'\n",
        "                         for i in range(len(inputs))]\n",
        "  print(*result_for_printing, sep='\\n')\n",
        "  print()\n",
        "\n",
        "\n",
        "examples = [\n",
        "    'Transformers have been a boon to NLP. It is going to be a case of before transformers and after transformers - they are wonderful.', \n",
        "    'From the first time I heard about them, I have found them to be dull and uninteresting.'\n",
        "]\n",
        "\n",
        "results = tf.sigmoid(model(tf.constant(examples)))\n",
        "\n",
        "print('Results from the model in memory:')\n",
        "print_my_examples(examples, results)"
      ],
      "metadata": {
        "id": "qSgHP6rBzjWS"
      },
      "execution_count": null,
      "outputs": []
    }
  ]
}